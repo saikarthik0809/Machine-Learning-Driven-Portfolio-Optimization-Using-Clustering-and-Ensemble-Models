{
  "nbformat": 4,
  "nbformat_minor": 0,
  "metadata": {
    "colab": {
      "provenance": []
    },
    "kernelspec": {
      "name": "python3",
      "display_name": "Python 3"
    },
    "language_info": {
      "name": "python"
    }
  },
  "cells": [
    {
      "cell_type": "code",
      "execution_count": null,
      "metadata": {
        "colab": {
          "base_uri": "https://localhost:8080/"
        },
        "id": "giWTfKQ28eDN",
        "outputId": "9a8741c7-f1e6-4937-f389-a2f23e079569"
      },
      "outputs": [
        {
          "output_type": "stream",
          "name": "stdout",
          "text": [
            "Dataset loaded successfully.\n",
            "      Close  Daily_Return  Momentum_10d  Volatility_14d  High_Low_Range  \\\n",
            "0   77.5325      0.015735          2.19        0.011365          1.5150   \n",
            "1   83.9600      0.046927          8.14        0.018763          2.2100   \n",
            "2   93.7000      0.025293         -2.23        0.019411          2.0450   \n",
            "3  188.5600     -0.004296          5.15        0.019287          2.1700   \n",
            "4  367.5100      0.010639         17.75        0.016594          5.6899   \n",
            "\n",
            "   Open_Close_Change     SMA_10    SMA_20    EMA_10    EMA_20  ...  MACD  \\\n",
            "0            -1.1225   78.14075   79.2460   77.5325   77.5325  ...   0.0   \n",
            "1             0.4600   89.87200   90.6865   83.9600   83.9600  ...   0.0   \n",
            "2             1.1400   91.63700   91.5120   93.7000   93.7000  ...   0.0   \n",
            "3             0.4300  187.84200  194.9890  188.5600  188.5600  ...   0.0   \n",
            "4             2.4900  368.92500  377.0740  367.5100  367.5100  ...   0.0   \n",
            "\n",
            "   Signal_Line  Sharpe_Ratio  Drawdown  Symbol                 Date PE_Ratio  \\\n",
            "0          0.0      1.604515       0.0    AAPL  2020-05-08 04:00:00  30.9316   \n",
            "1          0.0      0.319878       0.0    ABBV  2020-05-08 04:00:00  84.8162   \n",
            "2          0.0     -0.186676       0.0     ABT  2020-05-08 04:00:00  17.2208   \n",
            "3          0.0      0.248177       0.0     ACN  2020-05-08 04:00:00  25.3886   \n",
            "4          0.0      1.299955       0.0    ADBE  2020-05-08 04:00:00  25.1234   \n",
            "\n",
            "      ROE    Market_Cap  Scaled_Close  \n",
            "0  1.3802  2.970581e+12      0.003405  \n",
            "1  0.6229  3.510895e+11      0.025483  \n",
            "2  0.3065  2.307028e+11      0.118168  \n",
            "3  0.2697  1.926345e+11      0.036401  \n",
            "4  0.4728  1.623268e+11      0.223419  \n",
            "\n",
            "[5 rows x 21 columns]\n",
            "\n",
            "Columns: ['Close', 'Daily_Return', 'Momentum_10d', 'Volatility_14d', 'High_Low_Range', 'Open_Close_Change', 'SMA_10', 'SMA_20', 'EMA_10', 'EMA_20', 'RSI_14', 'MACD', 'Signal_Line', 'Sharpe_Ratio', 'Drawdown', 'Symbol', 'Date', 'PE_Ratio', 'ROE', 'Market_Cap', 'Scaled_Close']\n",
            "\n",
            "Missing values:\n",
            " Close                0\n",
            "Daily_Return         0\n",
            "Momentum_10d         0\n",
            "Volatility_14d       0\n",
            "High_Low_Range       0\n",
            "Open_Close_Change    0\n",
            "SMA_10               0\n",
            "SMA_20               0\n",
            "EMA_10               0\n",
            "EMA_20               0\n",
            "RSI_14               0\n",
            "MACD                 0\n",
            "Signal_Line          0\n",
            "Sharpe_Ratio         0\n",
            "Drawdown             0\n",
            "Symbol               0\n",
            "Date                 0\n",
            "PE_Ratio             0\n",
            "ROE                  0\n",
            "Market_Cap           0\n",
            "Scaled_Close         0\n",
            "dtype: int64\n"
          ]
        }
      ],
      "source": [
        "import pandas as pd\n",
        "import numpy as np\n",
        "from sklearn.preprocessing import StandardScaler\n",
        "\n",
        "# Load the dataset.  Replace with your actual file path.\n",
        "df = pd.read_csv('/content/sp500_final_cleaned_no_missing_dropped.csv')  # Or your file path\n",
        "print(\"Dataset loaded successfully.\")\n",
        "\n",
        "\n",
        "# Show the first 5 rows\n",
        "print(df.head())\n",
        "\n",
        "# Show all columns\n",
        "print(\"\\nColumns:\", df.columns.tolist())\n",
        "\n",
        "# Check for missing values\n",
        "print(\"\\nMissing values:\\n\", df.isnull().sum())\n"
      ]
    },
    {
      "cell_type": "code",
      "source": [
        "# prompt: no. of data points\n",
        "\n",
        "print(\"\\nNumber of data points:\", len(df))\n"
      ],
      "metadata": {
        "colab": {
          "base_uri": "https://localhost:8080/"
        },
        "id": "KIkKnOeu5naC",
        "outputId": "a4c0c3a6-2262-4c9f-f8ce-d47647ea274a"
      },
      "execution_count": null,
      "outputs": [
        {
          "output_type": "stream",
          "name": "stdout",
          "text": [
            "\n",
            "Number of data points: 387106\n"
          ]
        }
      ]
    },
    {
      "cell_type": "code",
      "source": [
        "import pandas as pd\n",
        "import numpy as np\n",
        "from sklearn.preprocessing import StandardScaler\n",
        "\n",
        "\n",
        "\n",
        "# Convert 'Date' column to datetime objects\n",
        "df['Date'] = pd.to_datetime(df['Date'])\n",
        "\n",
        "\n",
        "\n",
        "# Now proceed with your feature selection and scaling\n",
        "# 1. Feature Selection\n",
        "selected_features = [\n",
        "    'Daily_Return', 'Momentum_10d', 'Volatility_14d', 'High_Low_Range', 'Open_Close_Change',\n",
        "    'SMA_10', 'SMA_20', 'EMA_10', 'EMA_20',\n",
        "    'RSI_14', 'MACD', 'Signal_Line', 'Sharpe_Ratio', 'Drawdown',\n",
        "    'PE_Ratio',  'ROE', 'Market_Cap', 'Close'\n",
        "]\n",
        "\n",
        "X = df[selected_features]\n",
        "\n",
        "# 2. Feature Scaling\n",
        "scaler = StandardScaler()\n",
        "X_scaled = scaler.fit_transform(X)\n",
        "\n",
        "# 3. Optional: Turn scaled data back into DataFrame\n",
        "X_scaled = pd.DataFrame(X_scaled, columns=selected_features)\n",
        "\n",
        "# 4. Add identifier columns back (Symbol, Date) for tracking\n",
        "X_scaled['Symbol'] = df['Symbol'].values\n",
        "X_scaled['Date'] = df['Date'].values\n",
        "# 1. Feature Selection\n",
        "selected_features = [\n",
        "    'Daily_Return', 'Momentum_10d', 'Volatility_14d', 'High_Low_Range', 'Open_Close_Change',\n",
        "    'SMA_10', 'SMA_20', 'EMA_10', 'EMA_20',\n",
        "    'RSI_14', 'MACD', 'Signal_Line', 'Sharpe_Ratio', 'Drawdown',\n",
        "    'PE_Ratio',  'ROE', 'Market_Cap', 'Close'\n",
        "]\n",
        "\n",
        "X = df[selected_features]\n",
        "\n",
        "# 2. Feature Scaling\n",
        "scaler = StandardScaler()\n",
        "X_scaled = scaler.fit_transform(X)\n",
        "\n",
        "# 3. Optional: Turn scaled data back into DataFrame\n",
        "X_scaled = pd.DataFrame(X_scaled, columns=selected_features)\n",
        "\n",
        "# 4. Add identifier columns back (Symbol, Date) for tracking\n",
        "X_scaled['Symbol'] = df['Symbol'].values\n",
        "X_scaled['Date'] = df['Date'].values\n",
        "\n",
        "# 5. Save preprocessed dataset\n",
        "X_scaled.to_csv('/content/sp500-3.csv', index=False)\n",
        "\n",
        "print(\"✅ Final preprocessing complete. Dataset ready! Shape:\", X_scaled.shape)\n"
      ],
      "metadata": {
        "colab": {
          "base_uri": "https://localhost:8080/"
        },
        "id": "YgsuPzed8wYW",
        "outputId": "d8d55d86-e22e-4a0c-dfb7-a0630e6175e4"
      },
      "execution_count": null,
      "outputs": [
        {
          "output_type": "stream",
          "name": "stdout",
          "text": [
            "✅ Final preprocessing complete. Dataset ready! Shape: (387106, 20)\n"
          ]
        }
      ]
    },
    {
      "cell_type": "code",
      "source": [
        "# 1. Load the preprocessed dataset\n",
        "df['Date'] = pd.to_datetime(df['Date'])\n",
        "\n",
        "# 2. Split by date\n",
        "train_df = df[df['Date'] < '2025-01-01'].copy()\n",
        "test_df = df[df['Date'] >= '2025-01-01'].copy()\n",
        "\n",
        "# 3. Output shapes\n",
        "print(\"✅ Training set shape:\", train_df.shape)\n",
        "print(\"✅ Testing set shape:\", test_df.shape)\n",
        "print(\"📅 Training date range:\", train_df['Date'].min().date(), \"to\", train_df['Date'].max().date())\n",
        "print(\"📅 Testing date range:\", test_df['Date'].min().date(), \"to\", test_df['Date'].max().date())\n"
      ],
      "metadata": {
        "colab": {
          "base_uri": "https://localhost:8080/"
        },
        "id": "89LFjo3kTW3o",
        "outputId": "b2219368-5618-4a6f-e662-90763daa0c7e"
      },
      "execution_count": null,
      "outputs": [
        {
          "output_type": "stream",
          "name": "stdout",
          "text": [
            "✅ Training set shape: (368146, 21)\n",
            "✅ Testing set shape: (18960, 21)\n",
            "📅 Training date range: 2020-05-08 to 2024-12-31\n",
            "📅 Testing date range: 2025-01-02 to 2025-03-31\n"
          ]
        }
      ]
    },
    {
      "cell_type": "code",
      "source": [
        "import pandas as pd\n",
        "import numpy as np\n",
        "from sklearn.preprocessing import StandardScaler\n",
        "from sklearn.cluster import Birch\n",
        "from sklearn.metrics import silhouette_score\n",
        "import matplotlib.pyplot as plt\n",
        "from collections import Counter\n",
        "\n",
        "# Select features\n",
        "features = [\n",
        "    'Daily_Return', 'Momentum_10d', 'Volatility_14d', 'Drawdown',\n",
        "    'SMA_10', 'SMA_20', 'EMA_10', 'EMA_20',\n",
        "    'RSI_14', 'MACD', 'Signal_Line',\n",
        "    'Sharpe_Ratio', 'PE_Ratio', 'ROE', 'Market_Cap', 'Close'\n",
        "]\n",
        "\n",
        "# Scale features\n",
        "scaler = StandardScaler()\n",
        "X_scaled = scaler.fit_transform(df[features])\n",
        "\n",
        "# Sample for clustering to save RAM\n",
        "sample_size = 60000\n",
        "np.random.seed(42)\n",
        "sample_idx = np.random.choice(len(X_scaled), size=sample_size, replace=False)\n",
        "X_sample = X_scaled[sample_idx]\n",
        "\n",
        "# Fit Birch on sample\n",
        "birch = Birch(n_clusters=7)\n",
        "birch.fit(X_sample)\n",
        "\n",
        "# Predict clusters for full dataset\n",
        "df['Cluster_Birch'] = birch.predict(X_scaled)\n",
        "\n",
        "# Evaluate on sample\n",
        "sil_score = silhouette_score(X_sample, birch.labels_)\n",
        "print(f\"\\n✅ Silhouette Score (sample of {sample_size}): {sil_score:.4f}\")\n",
        "\n",
        "# Display cluster counts\n",
        "cluster_counts = Counter(df['Cluster_Birch'])\n",
        "print(\"\\n📊 Points per Cluster (Birch):\")\n",
        "for cluster_id, count in sorted(cluster_counts.items()):\n",
        "    print(f\"Cluster {cluster_id}: {count} points\")\n",
        "\n",
        "# Plot distribution\n",
        "plt.figure(figsize=(8, 4))\n",
        "plt.bar(cluster_counts.keys(), cluster_counts.values(), color='lightgreen')\n",
        "plt.title(\"Birch Cluster Sizes\")\n",
        "plt.xlabel(\"Cluster Label\")\n",
        "plt.ylabel(\"Number of Points\")\n",
        "plt.grid(True)\n",
        "plt.tight_layout()\n",
        "plt.show()\n"
      ],
      "metadata": {
        "colab": {
          "base_uri": "https://localhost:8080/",
          "height": 598
        },
        "id": "zyJbjRzs8-hD",
        "outputId": "fe3da999-0cc6-420d-dce1-ee04c0bf5cb3"
      },
      "execution_count": null,
      "outputs": [
        {
          "output_type": "stream",
          "name": "stdout",
          "text": [
            "\n",
            "✅ Silhouette Score (sample of 60000): 0.4568\n",
            "\n",
            "📊 Points per Cluster (Birch):\n",
            "Cluster 0: 356353 points\n",
            "Cluster 1: 21384 points\n",
            "Cluster 2: 6907 points\n",
            "Cluster 3: 1 points\n",
            "Cluster 4: 473 points\n",
            "Cluster 5: 836 points\n",
            "Cluster 6: 1152 points\n"
          ]
        },
        {
          "output_type": "display_data",
          "data": {
            "text/plain": [
              "<Figure size 800x400 with 1 Axes>"
            ],
            "image/png": "[encoded data removed]"
          },
          "metadata": {}
        }
      ]
    },
    {
      "cell_type": "code",
      "source": [
        "from sklearn.metrics import davies_bouldin_score, calinski_harabasz_score\n",
        "\n",
        "# Evaluation metrics using labels from the sample\n",
        "labels_sample = birch.labels_  # Labels assigned during fit on X_sample\n",
        "\n",
        "# Compute internal clustering scores\n",
        "dbi = davies_bouldin_score(X_sample, labels_sample)\n",
        "chi = calinski_harabasz_score(X_sample, labels_sample)\n",
        "\n",
        "# Output the results\n",
        "print(f\"\\n✅ Davies-Bouldin Index (Birch): {dbi:.4f}\")\n",
        "print(f\"✅ Calinski-Harabasz Index (Birch): {chi:.2f}\")\n"
      ],
      "metadata": {
        "colab": {
          "base_uri": "https://localhost:8080/"
        },
        "id": "cynfhqU76bP6",
        "outputId": "611b1fe7-9672-4d7e-a151-3c471d03bae9"
      },
      "execution_count": null,
      "outputs": [
        {
          "output_type": "stream",
          "name": "stdout",
          "text": [
            "\n",
            "✅ Davies-Bouldin Index (Birch): 0.9156\n",
            "✅ Calinski-Harabasz Index (Birch): 14481.90\n"
          ]
        }
      ]
    },
    {
      "cell_type": "code",
      "source": [
        "import pandas as pd\n",
        "import numpy as np\n",
        "\n",
        "# Ensure 'Date' is in datetime format\n",
        "df['Date'] = pd.to_datetime(df['Date'])\n",
        "\n",
        "# Configuration\n",
        "cluster_col = 'Cluster_Birch'\n",
        "trading_days = 252  # Annualization factor for Sharpe Ratio\n",
        "\n",
        "# Collect metrics for each cluster\n",
        "results = []\n",
        "\n",
        "for cluster in sorted(df[cluster_col].unique()):\n",
        "    cluster_df = df[df[cluster_col] == cluster]\n",
        "\n",
        "    for symbol, group in cluster_df.groupby('Symbol'):\n",
        "        group = group.sort_values('Date')\n",
        "\n",
        "        # Cumulative returns for drawdown calculation\n",
        "        cumulative = (1 + group['Daily_Return']).cumprod()\n",
        "        drawdown = cumulative / cumulative.cummax() - 1\n",
        "\n",
        "        # Sharpe ratio and max drawdown\n",
        "        std = group['Daily_Return'].std()\n",
        "        sharpe = group['Daily_Return'].mean() / std * np.sqrt(trading_days) if std != 0 else np.nan\n",
        "        max_dd = drawdown.min()\n",
        "\n",
        "        results.append({\n",
        "            'Cluster': cluster,\n",
        "            'Symbol': symbol,\n",
        "            'Sharpe_Ratio': sharpe,\n",
        "            'Max_Drawdown': max_dd\n",
        "        })\n",
        "\n",
        "# Convert to DataFrame\n",
        "cluster_metrics = pd.DataFrame(results)\n",
        "\n",
        "# Compute average metrics per cluster\n",
        "avg_cluster_stats = cluster_metrics.groupby('Cluster')[['Sharpe_Ratio', 'Max_Drawdown']].mean().reset_index()\n",
        "\n",
        "# Display results\n",
        "print(\"\\n📊 Average Sharpe & Max Drawdown per Cluster:\")\n",
        "print(avg_cluster_stats)\n"
      ],
      "metadata": {
        "colab": {
          "base_uri": "https://localhost:8080/"
        },
        "id": "drRZLrJB8feK",
        "outputId": "ae56fe10-405c-4bcb-8f05-6e3cf97cca1b"
      },
      "execution_count": null,
      "outputs": [
        {
          "output_type": "stream",
          "name": "stdout",
          "text": [
            "\n",
            "📊 Average Sharpe & Max Drawdown per Cluster:\n",
            "   Cluster  Sharpe_Ratio  Max_Drawdown\n",
            "0        0      0.313286     -0.435106\n",
            "1        1      6.792788     -0.061271\n",
            "2        2      1.236577     -0.433019\n",
            "3        3           NaN      0.000000\n",
            "4        4     -2.629648     -0.807386\n",
            "5        5      1.701510     -0.152754\n",
            "6        6      0.476309     -0.186042\n"
          ]
        }
      ]
    },
    {
      "cell_type": "code",
      "source": [
        "import pandas as pd\n",
        "import numpy as np\n",
        "from sklearn.cluster import Birch\n",
        "from sklearn.preprocessing import StandardScaler\n",
        "from collections import Counter\n",
        "\n",
        "# Filter only Cluster 0\n",
        "cluster_2_df = df[df['Cluster_Birch'] == 0].copy()\n",
        "other_df = df[df['Cluster_Birch'] != 0].copy()\n",
        "\n",
        "# Define features\n",
        "features = [\n",
        "    'Daily_Return', 'Momentum_10d', 'Volatility_14d', 'Drawdown',\n",
        "    'SMA_10', 'SMA_20', 'EMA_10', 'EMA_20',\n",
        "    'RSI_14', 'MACD', 'Signal_Line',\n",
        "    'Sharpe_Ratio', 'PE_Ratio', 'ROE', 'Market_Cap', 'Close'\n",
        "]\n",
        "\n",
        "# Scale data\n",
        "scaler = StandardScaler()\n",
        "X_2_scaled = scaler.fit_transform(cluster_2_df[features])\n",
        "\n",
        "# Sample before clustering\n",
        "sample_size = min(20000, len(cluster_2_df))\n",
        "np.random.seed(42)\n",
        "sample_idx = np.random.choice(len(cluster_2_df), size=sample_size, replace=False)\n",
        "X_sample = X_2_scaled[sample_idx]\n",
        "\n",
        "# Fit Birch on sample\n",
        "birch_sub = Birch(n_clusters=4)\n",
        "birch_sub.fit(X_sample)\n",
        "\n",
        "# Predict on all of Cluster 0\n",
        "sub_labels = birch_sub.predict(X_2_scaled)\n",
        "cluster_2_df['Cluster_Birch_Refined'] = ['0_' + str(i) for i in sub_labels]\n",
        "\n",
        "# Keep original cluster label for others\n",
        "other_df['Cluster_Birch_Refined'] = other_df['Cluster_Birch'].astype(str)\n",
        "\n",
        "# Combine back\n",
        "df_refined = pd.concat([cluster_2_df, other_df], ignore_index=True)\n",
        "\n",
        "# Show refined cluster counts\n",
        "print(\"\\n📊 Refined Cluster Counts:\")\n",
        "print(df_refined['Cluster_Birch_Refined'].value_counts().sort_index())\n",
        "\n",
        "# Optional: visualize refined cluster sizes\n",
        "import matplotlib.pyplot as plt\n",
        "\n",
        "# Count distribution\n",
        "refined_counts = df_refined['Cluster_Birch_Refined'].value_counts().sort_index()\n",
        "\n",
        "# Print counts\n",
        "print(\"\\n📊 Refined Cluster Counts:\")\n",
        "print(refined_counts)\n",
        "\n",
        "# Optional bar plot\n",
        "plt.figure(figsize=(8, 4))\n",
        "refined_counts.plot(kind='bar', color='lightblue')\n",
        "plt.title(\"Refined Cluster Distribution (Birch on Cluster 0)\")\n",
        "plt.xlabel(\"Refined Cluster Label\")\n",
        "plt.ylabel(\"Number of Points\")\n",
        "plt.grid(True)\n",
        "plt.tight_layout()\n",
        "plt.show()\n",
        "\n"
      ],
      "metadata": {
        "colab": {
          "base_uri": "https://localhost:8080/",
          "height": 893
        },
        "id": "-J0z8CD5_lFL",
        "outputId": "23d421ee-5d4b-4207-f631-7ae0edcb6fb1"
      },
      "execution_count": null,
      "outputs": [
        {
          "output_type": "stream",
          "name": "stdout",
          "text": [
            "\n",
            "📊 Refined Cluster Counts:\n",
            "Cluster_Birch_Refined\n",
            "0_0    231638\n",
            "0_1     17635\n",
            "0_2        13\n",
            "0_3    107067\n",
            "1       21384\n",
            "2        6907\n",
            "3           1\n",
            "4         473\n",
            "5         836\n",
            "6        1152\n",
            "Name: count, dtype: int64\n",
            "\n",
            "📊 Refined Cluster Counts:\n",
            "Cluster_Birch_Refined\n",
            "0_0    231638\n",
            "0_1     17635\n",
            "0_2        13\n",
            "0_3    107067\n",
            "1       21384\n",
            "2        6907\n",
            "3           1\n",
            "4         473\n",
            "5         836\n",
            "6        1152\n",
            "Name: count, dtype: int64\n"
          ]
        },
        {
          "output_type": "display_data",
          "data": {
            "text/plain": [
              "<Figure size 800x400 with 1 Axes>"
            ],
            "image/png": "[encoded data removed]"
          },
          "metadata": {}
        }
      ]
    },
    {
      "cell_type": "code",
      "source": [
        "import pandas as pd\n",
        "import numpy as np\n",
        "\n",
        "# Ensure 'Date' is datetime\n",
        "df_refined['Date'] = pd.to_datetime(df_refined['Date'])\n",
        "\n",
        "# Get refined cluster column\n",
        "cluster_col = 'Cluster_Birch_Refined'\n",
        "clusters = df_refined[cluster_col].unique()\n",
        "results = []\n",
        "\n",
        "trading_days = 252\n",
        "\n",
        "# Loop through each refined cluster\n",
        "for cluster in sorted(clusters):\n",
        "    cluster_df = df_refined[df_refined[cluster_col] == cluster]\n",
        "\n",
        "    for symbol, group in cluster_df.groupby('Symbol'):\n",
        "        group = group.sort_values('Date')\n",
        "        cumulative = (1 + group['Daily_Return']).cumprod()\n",
        "        drawdown = cumulative / cumulative.cummax() - 1\n",
        "\n",
        "        std = group['Daily_Return'].std()\n",
        "        sharpe = group['Daily_Return'].mean() / std * np.sqrt(trading_days) if std != 0 else np.nan\n",
        "        max_dd = drawdown.min()\n",
        "\n",
        "        results.append({\n",
        "            'Cluster_Refined': cluster,\n",
        "            'Symbol': symbol,\n",
        "            'Sharpe_Ratio': sharpe,\n",
        "            'Max_Drawdown': max_dd\n",
        "        })\n",
        "\n",
        "# Create DataFrame and group\n",
        "recluster_metrics = pd.DataFrame(results)\n",
        "avg_recluster_stats = recluster_metrics.groupby('Cluster_Refined')[['Sharpe_Ratio', 'Max_Drawdown']].mean().reset_index()\n",
        "\n",
        "print(\"\\n📊 Average Sharpe & Max Drawdown per Refined Cluster:\")\n",
        "print(avg_recluster_stats)\n"
      ],
      "metadata": {
        "colab": {
          "base_uri": "https://localhost:8080/"
        },
        "id": "lSgVvUSJCP_0",
        "outputId": "9bc457b0-7e74-4ba9-9cfb-779eab2275a1"
      },
      "execution_count": null,
      "outputs": [
        {
          "output_type": "stream",
          "name": "stdout",
          "text": [
            "\n",
            "📊 Average Sharpe & Max Drawdown per Refined Cluster:\n",
            "  Cluster_Refined  Sharpe_Ratio  Max_Drawdown\n",
            "0             0_0     -1.283502     -0.599416\n",
            "1             0_1     -6.329924     -0.230317\n",
            "2             0_2      3.957092     -0.030514\n",
            "3             0_3     13.593637     -0.156236\n",
            "4               1      6.792788     -0.061271\n",
            "5               2      1.236577     -0.433019\n",
            "6               3           NaN      0.000000\n",
            "7               4     -2.629648     -0.807386\n",
            "8               5      1.701510     -0.152754\n",
            "9               6      0.476309     -0.186042\n"
          ]
        }
      ]
    },
    {
      "cell_type": "code",
      "source": [
        "# Step 1: Map refined cluster ratings from reclustered stats\n",
        "def assign_rating(row):\n",
        "    if row['Sharpe_Ratio'] > 2 and row['Max_Drawdown'] > -0.2:\n",
        "        return 5\n",
        "    elif row['Sharpe_Ratio'] > 1 and row['Max_Drawdown'] > -0.3:\n",
        "        return 4\n",
        "    elif row['Sharpe_Ratio'] > 0.5 and row['Max_Drawdown'] > -0.4:\n",
        "        return 3\n",
        "    elif row['Sharpe_Ratio'] > 0:\n",
        "        return 2\n",
        "    else:\n",
        "        return 1\n",
        "\n",
        "# Step 2: Assign ratings to each refined cluster\n",
        "avg_recluster_stats['Birch_Cluster_Rating'] = avg_recluster_stats.apply(assign_rating, axis=1)\n",
        "\n",
        "# Step 3: Merge ratings into main df (assuming df_refined has both cluster info and original index)\n",
        "df['Cluster_Birch_Refined'] = df_refined['Cluster_Birch_Refined']\n",
        "df = df.merge(\n",
        "    avg_recluster_stats[['Cluster_Refined', 'Birch_Cluster_Rating']],\n",
        "    left_on='Cluster_Birch_Refined',\n",
        "    right_on='Cluster_Refined',\n",
        "    how='left'\n",
        ")\n",
        "\n",
        "# Step 4: Optional cleanup\n",
        "df.drop(columns=['Cluster_Refined'], inplace=True)\n",
        "\n",
        "print(\"✅ Birch cluster rating successfully added to df.\")\n"
      ],
      "metadata": {
        "colab": {
          "base_uri": "https://localhost:8080/"
        },
        "id": "-V5BvHxnGYNl",
        "outputId": "bcd11985-06e2-445b-b3b2-8da9f53f58a8"
      },
      "execution_count": null,
      "outputs": [
        {
          "output_type": "stream",
          "name": "stdout",
          "text": [
            "✅ Birch cluster rating successfully added to df.\n"
          ]
        }
      ]
    },
    {
      "cell_type": "code",
      "source": [
        "import pandas as pd\n",
        "import numpy as np\n",
        "from sklearn.preprocessing import StandardScaler\n",
        "from sklearn.cluster import KMeans\n",
        "from sklearn.metrics import silhouette_score\n",
        "import matplotlib.pyplot as plt\n",
        "from collections import Counter\n",
        "\n",
        "\n",
        "# Select features\n",
        "features = [\n",
        "    'Daily_Return', 'Momentum_10d', 'Volatility_14d', 'Drawdown',\n",
        "    'SMA_10', 'SMA_20', 'EMA_10', 'EMA_20',\n",
        "    'RSI_14', 'MACD', 'Signal_Line',\n",
        "    'Sharpe_Ratio', 'PE_Ratio', 'ROE', 'Market_Cap', 'Close'\n",
        "]\n",
        "\n",
        "# Scale features\n",
        "scaler = StandardScaler()\n",
        "X_scaled = scaler.fit_transform(df[features])\n",
        "\n",
        "# Sample for clustering to save RAM\n",
        "sample_size = 60000\n",
        "np.random.seed(42)\n",
        "sample_idx = np.random.choice(len(X_scaled), size=sample_size, replace=False)\n",
        "X_sample = X_scaled[sample_idx]\n",
        "\n",
        "# Fit KMeans on sample\n",
        "kmeans = KMeans(n_clusters=3, random_state=42)\n",
        "kmeans.fit(X_sample)\n",
        "\n",
        "# Predict for entire dataset (after fitting)\n",
        "labels = kmeans.predict(X_scaled)\n",
        "df['Cluster_KMeans'] = labels\n",
        "\n",
        "# Silhouette Score (on sample only)\n",
        "sil_score = silhouette_score(X_sample, kmeans.labels_)\n",
        "print(f\"\\n✅ Silhouette Score (sample of {sample_size}): {sil_score:.4f}\")\n",
        "\n",
        "# Cluster sizes\n",
        "cluster_counts = Counter(labels)\n",
        "print(\"\\n📊 Points per Cluster (KMeans):\")\n",
        "for cluster_id, count in sorted(cluster_counts.items()):\n",
        "    print(f\"Cluster {cluster_id}: {count} points\")\n",
        "\n",
        "# Plot\n",
        "plt.figure(figsize=(8, 4))\n",
        "plt.bar(cluster_counts.keys(), cluster_counts.values(), color='lightblue')\n",
        "plt.title(\"KMeans Cluster Sizes\")\n",
        "plt.xlabel(\"Cluster Label\")\n",
        "plt.ylabel(\"Number of Points\")\n",
        "plt.grid(True)\n",
        "plt.tight_layout()\n",
        "plt.show()\n"
      ],
      "metadata": {
        "colab": {
          "base_uri": "https://localhost:8080/",
          "height": 528
        },
        "id": "95kXrKrj_X6S",
        "outputId": "86fcc2e8-b95e-4bce-dec2-905b52d12707"
      },
      "execution_count": null,
      "outputs": [
        {
          "output_type": "stream",
          "name": "stdout",
          "text": [
            "\n",
            "✅ Silhouette Score (sample of 60000): 0.6893\n",
            "\n",
            "📊 Points per Cluster (KMeans):\n",
            "Cluster 0: 4024 points\n",
            "Cluster 1: 380622 points\n",
            "Cluster 2: 2460 points\n"
          ]
        },
        {
          "output_type": "display_data",
          "data": {
            "text/plain": [
              "<Figure size 800x400 with 1 Axes>"
            ],
            "image/png": "[encoded data removed]"
          },
          "metadata": {}
        }
      ]
    },
    {
      "cell_type": "code",
      "source": [
        "from sklearn.metrics import davies_bouldin_score, calinski_harabasz_score\n",
        "\n",
        "# Assuming birch was fitted on X_sample\n",
        "labels_kmeans = kmeans.labels_  # labels from the fit on sample\n",
        "\n",
        "# Internal evaluation metrics\n",
        "dbi = davies_bouldin_score(X_sample, labels_kmeans)\n",
        "chi = calinski_harabasz_score(X_sample, labels_kmeans)\n",
        "\n",
        "print(f\"✅ Davies-Bouldin Index (kmeans): {dbi:.4f}\")\n",
        "print(f\"✅ Calinski-Harabasz Index (kmeans): {chi:.2f}\")\n"
      ],
      "metadata": {
        "colab": {
          "base_uri": "https://localhost:8080/"
        },
        "id": "QUMDPOGKJQH4",
        "outputId": "a016ca1c-e3f0-40b3-82cd-68ecbb339d6c"
      },
      "execution_count": null,
      "outputs": [
        {
          "output_type": "stream",
          "name": "stdout",
          "text": [
            "✅ Davies-Bouldin Index (kmeans): 0.8823\n",
            "✅ Calinski-Harabasz Index (kmeans): 6121.31\n"
          ]
        }
      ]
    },
    {
      "cell_type": "code",
      "source": [
        "import pandas as pd\n",
        "import numpy as np\n",
        "\n",
        "# Ensure 'Date' is datetime\n",
        "df['Date'] = pd.to_datetime(df['Date'])\n",
        "\n",
        "# Get list of clusters\n",
        "cluster_col = 'Cluster_KMeans'  # or your cluster column\n",
        "clusters = df[cluster_col].unique()\n",
        "results = []\n",
        "\n",
        "# Annualization factor\n",
        "trading_days = 252\n",
        "\n",
        "# Loop through each cluster\n",
        "for cluster in sorted(clusters):\n",
        "    cluster_df = df[df[cluster_col] == cluster]\n",
        "\n",
        "    # Group by stock\n",
        "    for symbol, group in cluster_df.groupby('Symbol'):\n",
        "        group = group.sort_values('Date')\n",
        "        cumulative = (1 + group['Daily_Return']).cumprod()\n",
        "        drawdown = cumulative / cumulative.cummax() - 1\n",
        "\n",
        "        sharpe = group['Daily_Return'].mean() / group['Daily_Return'].std() * np.sqrt(trading_days) if group['Daily_Return'].std() != 0 else np.nan\n",
        "        max_dd = drawdown.min()\n",
        "\n",
        "        results.append({\n",
        "            'Cluster': cluster,\n",
        "            'Symbol': symbol,\n",
        "            'Sharpe_Ratio': sharpe,\n",
        "            'Max_Drawdown': max_dd\n",
        "        })\n",
        "\n",
        "# Convert to DataFrame\n",
        "cluster_metrics = pd.DataFrame(results)\n",
        "\n",
        "# Average per cluster\n",
        "avg_cluster_stats = cluster_metrics.groupby('Cluster')[['Sharpe_Ratio', 'Max_Drawdown']].mean().reset_index()\n",
        "\n",
        "print(\"\\n📊 Average Sharpe & Max Drawdown per Cluster:\")\n",
        "print(avg_cluster_stats)\n"
      ],
      "metadata": {
        "colab": {
          "base_uri": "https://localhost:8080/"
        },
        "id": "g0MAMXaLJUzF",
        "outputId": "230828a4-e2fa-42aa-aa65-0dd10403ad00"
      },
      "execution_count": null,
      "outputs": [
        {
          "output_type": "stream",
          "name": "stdout",
          "text": [
            "\n",
            "📊 Average Sharpe & Max Drawdown per Cluster:\n",
            "   Cluster  Sharpe_Ratio  Max_Drawdown\n",
            "0        0      1.455980     -0.111010\n",
            "1        1      0.501601     -0.410998\n",
            "2        2     -0.049297     -0.599124\n"
          ]
        }
      ]
    },
    {
      "cell_type": "code",
      "source": [
        "import pandas as pd\n",
        "import numpy as np\n",
        "from sklearn.cluster import Birch\n",
        "from sklearn.preprocessing import StandardScaler\n",
        "from collections import Counter\n",
        "\n",
        "# Filter only Cluster 0\n",
        "cluster_1_df = df[df['Cluster_KMeans'] == 1].copy()\n",
        "other_df = df[df['Cluster_KMeans'] != 1].copy()\n",
        "\n",
        "# Define features\n",
        "features = [\n",
        "    'Daily_Return', 'Momentum_10d', 'Volatility_14d', 'Drawdown',\n",
        "    'SMA_10', 'SMA_20', 'EMA_10', 'EMA_20',\n",
        "    'RSI_14', 'MACD', 'Signal_Line',\n",
        "    'Sharpe_Ratio', 'PE_Ratio', 'ROE', 'Market_Cap', 'Close'\n",
        "]\n",
        "\n",
        "# Scale data\n",
        "scaler = StandardScaler()\n",
        "X_2_scaled = scaler.fit_transform(cluster_1_df[features])\n",
        "\n",
        "# Sample before clustering\n",
        "sample_size = min(20000, len(cluster_1_df))\n",
        "np.random.seed(42)\n",
        "sample_idx = np.random.choice(len(cluster_1_df), size=sample_size, replace=False)\n",
        "X_sample = X_2_scaled[sample_idx]\n",
        "\n",
        "# Fit Birch on sample\n",
        "KMeans_sub = KMeans(n_clusters=4)\n",
        "KMeans_sub.fit(X_sample)\n",
        "\n",
        "# Predict on all of Cluster 0\n",
        "sub_labels = KMeans_sub.predict(X_2_scaled)\n",
        "cluster_1_df['Cluster_KMeans_Refined'] = ['1_' + str(i) for i in sub_labels]\n",
        "\n",
        "# Keep original cluster label for others\n",
        "other_df['Cluster_KMeans_Refined'] = other_df['Cluster_KMeans'].astype(str)\n",
        "\n",
        "# Combine back\n",
        "df_refined = pd.concat([cluster_1_df, other_df], ignore_index=True)\n",
        "\n",
        "# Show refined cluster counts\n",
        "print(\"\\n📊 Refined Cluster Counts:\")\n",
        "print(df_refined['Cluster_KMeans_Refined'].value_counts().sort_index())\n"
      ],
      "metadata": {
        "colab": {
          "base_uri": "https://localhost:8080/"
        },
        "id": "0kQKvfO4JZkS",
        "outputId": "66127c1c-24ff-4e2b-85eb-d12d5e5d0fb5"
      },
      "execution_count": null,
      "outputs": [
        {
          "output_type": "stream",
          "name": "stdout",
          "text": [
            "\n",
            "📊 Refined Cluster Counts:\n",
            "Cluster_KMeans_Refined\n",
            "0        4024\n",
            "1_0    112255\n",
            "1_1    242851\n",
            "1_2        13\n",
            "1_3     25503\n",
            "2        2460\n",
            "Name: count, dtype: int64\n"
          ]
        }
      ]
    },
    {
      "cell_type": "code",
      "source": [
        "import pandas as pd\n",
        "import numpy as np\n",
        "\n",
        "# Ensure 'Date' is datetime\n",
        "df_refined['Date'] = pd.to_datetime(df_refined['Date'])\n",
        "\n",
        "# Get refined cluster column\n",
        "cluster_col = 'Cluster_KMeans_Refined'\n",
        "clusters = df_refined[cluster_col].unique()\n",
        "results = []\n",
        "\n",
        "trading_days = 252\n",
        "\n",
        "# Loop through each refined cluster\n",
        "for cluster in sorted(clusters):\n",
        "    cluster_df = df_refined[df_refined[cluster_col] == cluster]\n",
        "\n",
        "    for symbol, group in cluster_df.groupby('Symbol'):\n",
        "        group = group.sort_values('Date')\n",
        "        cumulative = (1 + group['Daily_Return']).cumprod()\n",
        "        drawdown = cumulative / cumulative.cummax() - 1\n",
        "\n",
        "        std = group['Daily_Return'].std()\n",
        "        sharpe = group['Daily_Return'].mean() / std * np.sqrt(trading_days) if std != 0 else np.nan\n",
        "        max_dd = drawdown.min()\n",
        "\n",
        "        results.append({\n",
        "            'Cluster_Refined': cluster,\n",
        "            'Symbol': symbol,\n",
        "            'Sharpe_Ratio': sharpe,\n",
        "            'Max_Drawdown': max_dd\n",
        "        })\n",
        "\n",
        "# Create DataFrame and group\n",
        "recluster_metrics = pd.DataFrame(results)\n",
        "avg_recluster_stats = recluster_metrics.groupby('Cluster_Refined')[['Sharpe_Ratio', 'Max_Drawdown']].mean().reset_index()\n",
        "\n",
        "print(\"\\n📊 Average Sharpe & Max Drawdown per Refined Cluster:\")\n",
        "print(avg_recluster_stats)\n"
      ],
      "metadata": {
        "colab": {
          "base_uri": "https://localhost:8080/"
        },
        "id": "wvhfSQLZJrdF",
        "outputId": "23ec8102-6e15-4bd6-8ff4-a50a102bdc95"
      },
      "execution_count": null,
      "outputs": [
        {
          "output_type": "stream",
          "name": "stdout",
          "text": [
            "\n",
            "📊 Average Sharpe & Max Drawdown per Refined Cluster:\n",
            "  Cluster_Refined  Sharpe_Ratio  Max_Drawdown\n",
            "0               0      1.455980     -0.111010\n",
            "1             1_0      3.358064     -0.186362\n",
            "2             1_1     -0.456370     -0.435350\n",
            "3             1_2      3.957092     -0.030514\n",
            "4             1_3     -0.446766     -0.261069\n",
            "5               2     -0.049297     -0.599124\n"
          ]
        }
      ]
    },
    {
      "cell_type": "code",
      "source": [
        "# Step 1: Define the rating function for KMeans refined clusters\n",
        "def assign_kmeans_rating(row):\n",
        "    if row['Sharpe_Ratio'] > 2 and row['Max_Drawdown'] > -0.2:\n",
        "        return 5\n",
        "    elif row['Sharpe_Ratio'] > 1 and row['Max_Drawdown'] > -0.3:\n",
        "        return 4\n",
        "    elif row['Sharpe_Ratio'] > 0.5 and row['Max_Drawdown'] > -0.4:\n",
        "        return 3\n",
        "    elif row['Sharpe_Ratio'] > 0:\n",
        "        return 2\n",
        "    else:\n",
        "        return 1\n",
        "\n",
        "# Step 2: Assign ratings to each refined KMeans cluster\n",
        "# The variable 'avg_recluster_stats' was likely intended here.\n",
        "avg_recluster_stats['KMeans_Cluster_Rating'] = avg_recluster_stats.apply(assign_kmeans_rating, axis=1)\n",
        "\n",
        "# Step 3: Merge ratings into main df (assuming df_refined contains 'Cluster_KMeans_Refined')\n",
        "df['Cluster_KMeans_Refined'] = df_refined['Cluster_KMeans_Refined']\n",
        "df = df.merge(\n",
        "    avg_recluster_stats[['Cluster_Refined', 'KMeans_Cluster_Rating']],\n",
        "    left_on='Cluster_KMeans_Refined',\n",
        "    right_on='Cluster_Refined',\n",
        "    how='left'\n",
        ")\n",
        "\n",
        "# Step 4: Cleanup\n",
        "df.drop(columns=['Cluster_Refined'], inplace=True)\n",
        "\n",
        "print(\"✅ KMeans cluster rating successfully added to df.\")"
      ],
      "metadata": {
        "colab": {
          "base_uri": "https://localhost:8080/"
        },
        "id": "XBBlBbPlLcRp",
        "outputId": "cdb0857b-cd64-4f7f-83b3-58a2dd68a1de"
      },
      "execution_count": null,
      "outputs": [
        {
          "output_type": "stream",
          "name": "stdout",
          "text": [
            "✅ KMeans cluster rating successfully added to df.\n"
          ]
        }
      ]
    },
    {
      "cell_type": "code",
      "source": [
        "import pandas as pd\n",
        "import numpy as np\n",
        "from tqdm import tqdm\n",
        "\n",
        "# Ensure Date column is datetime\n",
        "df['Date'] = pd.to_datetime(df['Date'])\n",
        "\n",
        "# Create 'Month' column\n",
        "df['Month'] = df['Date'].dt.to_period('M').astype(str)\n",
        "\n",
        "# Prepare to collect weights\n",
        "markowitz_weights = []\n",
        "\n",
        "# Group by Month\n",
        "months = df['Month'].unique()\n",
        "for month in tqdm(months, desc=\"Calculating Markowitz weights\"):\n",
        "    # Filter for the current month\n",
        "    month_df = df[df['Month'] == month]\n",
        "\n",
        "    # Pivot table: rows = Date, columns = Symbol, values = Daily_Return\n",
        "    pivot = month_df.pivot_table(index='Date', columns='Symbol', values='Daily_Return')\n",
        "\n",
        "    # Drop columns (symbols) with too many missing values\n",
        "    pivot = pivot.dropna(axis=1, thresh=10)\n",
        "\n",
        "    # Skip if too few stocks\n",
        "    if pivot.shape[1] < 5:\n",
        "        continue\n",
        "\n",
        "    # Compute expected return and variance (mean / var)\n",
        "    mean_returns = pivot.mean()\n",
        "    variances = pivot.var()\n",
        "\n",
        "    weights = mean_returns / variances\n",
        "    weights = weights / weights.sum()  # Normalize to sum to 1\n",
        "\n",
        "    # Store weights\n",
        "    for symbol, weight in weights.items():\n",
        "        markowitz_weights.append({\n",
        "            'Symbol': symbol,\n",
        "            'Month': month,\n",
        "            'Markowitz_Weight': weight\n",
        "        })\n",
        "\n",
        "# Convert to DataFrame\n",
        "weights_df = pd.DataFrame(markowitz_weights)\n",
        "\n",
        "# Merge back into df\n",
        "if 'Markowitz_Weight' in df.columns:\n",
        "    df.drop(columns='Markowitz_Weight', inplace=True)\n",
        "\n",
        "df = df.merge(weights_df, on=['Symbol', 'Month'], how='left')\n",
        "\n",
        "print(\"✅ Markowitz weights added to main DataFrame.\")\n"
      ],
      "metadata": {
        "colab": {
          "base_uri": "https://localhost:8080/"
        },
        "id": "UX5MbdHXLdGO",
        "outputId": "b1358655-bb5d-4ddb-d7f3-3facf6cd855a"
      },
      "execution_count": null,
      "outputs": [
        {
          "output_type": "stream",
          "name": "stderr",
          "text": [
            "Calculating Markowitz weights: 100%|██████████| 59/59 [00:02<00:00, 24.63it/s]\n"
          ]
        },
        {
          "output_type": "stream",
          "name": "stdout",
          "text": [
            "✅ Markowitz weights added to main DataFrame.\n"
          ]
        }
      ]
    },
    {
      "cell_type": "code",
      "source": [
        "# Ensure 'Date' is datetime and sorted\n",
        "df = df.sort_values(by=['Symbol', 'Date'])\n",
        "df['Date'] = pd.to_datetime(df['Date'])\n",
        "\n",
        "# 1. Calculate Future_Close: Next day's close price per stock\n",
        "df['Future_Close'] = df.groupby('Symbol')['Close'].shift(-1)\n",
        "\n",
        "# 2. Calculate Future_Return: Percentage return\n",
        "df['Future_Return'] = (df['Future_Close'] - df['Close']) / df['Close']\n",
        "\n",
        "# Optional: Drop rows where Future_Close or Future_Return is NaN (last row of each stock)\n",
        "df = df.dropna(subset=['Future_Close', 'Future_Return'])\n",
        "\n",
        "print(\"✅ Added 'Future_Close' and 'Future_Return' to the DataFrame.\")\n"
      ],
      "metadata": {
        "colab": {
          "base_uri": "https://localhost:8080/"
        },
        "id": "9-72HYvg-bM1",
        "outputId": "4a767d75-10bd-4471-de95-0fc6683549fa"
      },
      "execution_count": null,
      "outputs": [
        {
          "output_type": "stream",
          "name": "stdout",
          "text": [
            "✅ Added 'Future_Close' and 'Future_Return' to the DataFrame.\n"
          ]
        }
      ]
    },
    {
      "cell_type": "code",
      "source": [
        "import numpy as np\n",
        "import pandas as pd\n",
        "import matplotlib.pyplot as plt\n",
        "from sklearn.preprocessing import StandardScaler\n",
        "from sklearn.metrics import mean_absolute_error, mean_squared_error, r2_score\n",
        "from xgboost import XGBRegressor\n",
        "from lightgbm import LGBMRegressor\n",
        "from tensorflow import keras\n",
        "from tensorflow.keras import layers\n",
        "\n",
        "# 1. Filter required columns\n",
        "features = [\n",
        "    'Daily_Return', 'Momentum_10d', 'Volatility_14d', 'Drawdown',\n",
        "    'SMA_10', 'SMA_20', 'EMA_10', 'EMA_20',\n",
        "    'RSI_14', 'MACD', 'Signal_Line',\n",
        "    'Sharpe_Ratio', 'PE_Ratio', 'ROE', 'Market_Cap',\n",
        "     'Markowitz_Weight'\n",
        "     ,'Cluster_KMeans_Refined', 'Cluster_Birch_Refined'\n",
        "]\n",
        "\n",
        "df['Date'] = pd.to_datetime(df['Date'])\n",
        "df_model = df[features + ['Future_Return', 'Symbol', 'Date']].dropna()\n",
        "\n",
        "# 2. Split by date\n",
        "train_df = df_model[df_model['Date'] < '2025-01-01']\n",
        "test_df = df_model[df_model['Date'] >= '2025-01-01']\n",
        "\n",
        "X_train = train_df[features]\n",
        "y_train = train_df['Future_Return']\n",
        "X_test = test_df[features]\n",
        "y_test = test_df['Future_Return']\n",
        "\n",
        "# 3. Scale features\n",
        "scaler = StandardScaler()\n",
        "X_train_scaled = scaler.fit_transform(X_train)\n",
        "X_test_scaled = scaler.transform(X_test)\n",
        "\n",
        "\n"
      ],
      "metadata": {
        "id": "FW1TJqFG_C3V"
      },
      "execution_count": null,
      "outputs": []
    },
    {
      "cell_type": "code",
      "source": [
        "# 4. Train Neural Network\n",
        "from sklearn.metrics import mean_absolute_error\n",
        "\n",
        "nn_model = keras.Sequential([\n",
        "    layers.Input(shape=(X_train_scaled.shape[1],)),\n",
        "    layers.Dense(256, activation='relu'),\n",
        "    layers.BatchNormalization(),\n",
        "    layers.Dropout(0.1),\n",
        "    layers.Dense(128, activation='relu'),\n",
        "    layers.Dropout(0.1),\n",
        "    layers.Dense(1)\n",
        "])\n",
        "\n",
        "nn_model.compile(optimizer='adam', loss='mse')\n",
        "nn_model.fit(X_train_scaled, y_train, epochs=40, batch_size=512, verbose=0)\n",
        "nn_pred = nn_model.predict(X_test_scaled).flatten()\n",
        "\n",
        "mae = mean_absolute_error(y_test, nn_pred)\n",
        "print(f\"✅ Mean Absolute Error (NN): {mae:.6f}\")"
      ],
      "metadata": {
        "colab": {
          "base_uri": "https://localhost:8080/"
        },
        "id": "7OtVKs6o_qb9",
        "outputId": "791108a6-681b-487f-89e6-bb174feb5b31"
      },
      "execution_count": null,
      "outputs": [
        {
          "output_type": "stream",
          "name": "stdout",
          "text": [
            "\u001b[1m583/583\u001b[0m \u001b[32m━━━━━━━━━━━━━━━━━━━━\u001b[0m\u001b[37m\u001b[0m \u001b[1m1s\u001b[0m 1ms/step\n",
            "✅ Mean Absolute Error (NN): 0.013177\n"
          ]
        }
      ]
    },
    {
      "cell_type": "code",
      "source": [
        "# 5. Train XGBoost\n",
        "from sklearn.metrics import mean_absolute_error\n",
        "\n",
        "xgb = XGBRegressor(n_estimators=10, learning_rate=0.1, max_depth=10, random_state=42)\n",
        "xgb.fit(X_train_scaled, y_train)\n",
        "xgb_pred = xgb.predict(X_test_scaled)\n",
        "\n",
        "mae = mean_absolute_error(y_test, xgb_pred)\n",
        "print(f\"✅ Mean Absolute Error (XGBoost): {mae:.6f}\")"
      ],
      "metadata": {
        "colab": {
          "base_uri": "https://localhost:8080/"
        },
        "id": "Pe1BUdS2_rWf",
        "outputId": "7d330bb1-d77e-4967-b41d-baaf6159c06e"
      },
      "execution_count": null,
      "outputs": [
        {
          "output_type": "stream",
          "name": "stdout",
          "text": [
            "✅ Mean Absolute Error (XGBoost): 0.013178\n"
          ]
        }
      ]
    },
    {
      "cell_type": "code",
      "source": [
        "# 6. Train LightGBM\n",
        "from sklearn.metrics import mean_absolute_error\n",
        "\n",
        "lgbm = LGBMRegressor(n_estimators=100, learning_rate=0.05, random_state=42)\n",
        "lgbm.fit(X_train_scaled, y_train)\n",
        "lgbm_pred = lgbm.predict(X_test_scaled)\n",
        "\n",
        "mae = mean_absolute_error(y_test, lgbm_pred)\n",
        "print(f\"✅ Mean Absolute Error (LightGBM): {mae:.6f}\")"
      ],
      "metadata": {
        "colab": {
          "base_uri": "https://localhost:8080/"
        },
        "id": "WiJyWJaT_uo9",
        "outputId": "00272c13-10e0-4319-9eb9-b601091c8b53"
      },
      "execution_count": null,
      "outputs": [
        {
          "output_type": "stream",
          "name": "stderr",
          "text": [
            "/usr/local/lib/python3.11/dist-packages/sklearn/utils/deprecation.py:151: FutureWarning: 'force_all_finite' was renamed to 'ensure_all_finite' in 1.6 and will be removed in 1.8.\n",
            "  warnings.warn(\n"
          ]
        },
        {
          "output_type": "stream",
          "name": "stdout",
          "text": [
            "[LightGBM] [Info] Auto-choosing row-wise multi-threading, the overhead of testing was 0.022096 seconds.\n",
            "You can set `force_row_wise=true` to remove the overhead.\n",
            "And if memory is not enough, you can set `force_col_wise=true`.\n",
            "[LightGBM] [Info] Total Bins 4082\n",
            "[LightGBM] [Info] Number of data points in the train set: 368142, number of used features: 18\n",
            "[LightGBM] [Info] Start training from score 0.000745\n",
            "✅ Mean Absolute Error (LightGBM): 0.013903\n"
          ]
        },
        {
          "output_type": "stream",
          "name": "stderr",
          "text": [
            "/usr/local/lib/python3.11/dist-packages/sklearn/utils/deprecation.py:151: FutureWarning: 'force_all_finite' was renamed to 'ensure_all_finite' in 1.6 and will be removed in 1.8.\n",
            "  warnings.warn(\n"
          ]
        }
      ]
    },
    {
      "cell_type": "code",
      "source": [
        "# 7. Ensemble prediction\n",
        "ensemble_pred = (nn_pred + xgb_pred + lgbm_pred) / 3\n",
        "\n",
        "# 8. Attach predictions\n",
        "test_df = test_df.copy().reset_index(drop=True)\n",
        "test_df['Predicted_Future_Return'] = ensemble_pred\n"
      ],
      "metadata": {
        "id": "x2xVvYgL_xbF"
      },
      "execution_count": null,
      "outputs": []
    },
    {
      "cell_type": "code",
      "source": [
        "# 9. Portfolio simulation\n",
        "rebalance_frequency = 1\n",
        "top_n = 15\n",
        "unique_dates = test_df['Date'].sort_values().unique()\n",
        "portfolio_returns = []\n",
        "\n",
        "for i in range(0, len(unique_dates), rebalance_frequency):\n",
        "    rebalance_date = unique_dates[i]\n",
        "    date_window = unique_dates[i:i + rebalance_frequency]\n",
        "\n",
        "    day_data = test_df[test_df['Date'] == rebalance_date]\n",
        "    top_stocks = day_data.sort_values('Predicted_Future_Return', ascending=False).head(top_n)\n",
        "\n",
        "    preds = top_stocks['Predicted_Future_Return']\n",
        "    weights = np.exp(preds) / np.sum(np.exp(preds))\n",
        "    weight_map = dict(zip(top_stocks['Symbol'], weights))\n",
        "\n",
        "    for date in date_window:\n",
        "        daily_data = test_df[test_df['Date'] == date]\n",
        "        merged = daily_data[daily_data['Symbol'].isin(weight_map)].copy()\n",
        "        merged['Weight'] = merged['Symbol'].map(weight_map)\n",
        "        merged['Weight'] = merged['Weight'] / merged['Weight'].sum()\n",
        "\n",
        "        daily_return = np.sum(merged['Weight'] * merged['Future_Return'])\n",
        "        portfolio_returns.append({'Date': date, 'Portfolio_Return': daily_return})\n",
        "\n",
        "# 10. Metrics\n",
        "portfolio_df = pd.DataFrame(portfolio_returns).sort_values('Date')\n",
        "portfolio_df['Cumulative_Return'] = (1 + portfolio_df['Portfolio_Return']).cumprod()\n",
        "sharpe_ratio = portfolio_df['Portfolio_Return'].mean() / portfolio_df['Portfolio_Return'].std() * np.sqrt(252)\n",
        "drawdown = portfolio_df['Cumulative_Return'] / portfolio_df['Cumulative_Return'].cummax() - 1\n",
        "max_drawdown = drawdown.min()\n",
        "\n",
        "# 11. Plot\n",
        "plt.figure(figsize=(12, 6))\n",
        "plt.plot(portfolio_df['Date'], portfolio_df['Cumulative_Return'])\n",
        "plt.title(\"Cumulative Portfolio Return (Top 10 Stocks)\")\n",
        "plt.xlabel(\"Date\")\n",
        "plt.ylabel(\"Cumulative Return\")\n",
        "plt.grid(True)\n",
        "plt.tight_layout()\n",
        "plt.show()\n",
        "\n",
        "# 12. Output\n",
        "print(f\"\\n✅ Sharpe Ratio: {sharpe_ratio:.3f}\")\n",
        "print(f\"✅ Max Drawdown: {max_drawdown:.3f}\")\n",
        "print(f\"✅ Final Cumulative Return: {portfolio_df['Cumulative_Return'].iloc[-1]:.2f}\")"
      ],
      "metadata": {
        "colab": {
          "base_uri": "https://localhost:8080/",
          "height": 676
        },
        "id": "MKYlOF02ASFc",
        "outputId": "6f7c8374-5565-4517-d631-5d6b173c6e38"
      },
      "execution_count": null,
      "outputs": [
        {
          "output_type": "display_data",
          "data": {
            "text/plain": [
              "<Figure size 1200x600 with 1 Axes>"
            ],
            "image/png": "[encoded data removed]"
          },
          "metadata": {}
        },
        {
          "output_type": "stream",
          "name": "stdout",
          "text": [
            "\n",
            "✅ Sharpe Ratio: 4.291\n",
            "✅ Max Drawdown: -0.044\n",
            "✅ Final Cumulative Return: 1.21\n"
          ]
        }
      ]
    },
    {
      "cell_type": "code",
      "source": [
        "import numpy as np\n",
        "import pandas as pd\n",
        "\n",
        "def compute_risk_metrics(portfolio_df, rf_rate=0.0):\n",
        "    \"\"\"\n",
        "    Compute various portfolio risk and performance metrics.\n",
        "\n",
        "    Parameters:\n",
        "        portfolio_df (DataFrame): Must contain 'Portfolio_Return' and 'Cumulative_Return'\n",
        "        rf_rate (float): Risk-free rate (default 0.0)\n",
        "\n",
        "    Returns:\n",
        "        dict: Risk and performance metrics\n",
        "    \"\"\"\n",
        "\n",
        "    returns = portfolio_df['Portfolio_Return']\n",
        "    cumulative = portfolio_df['Cumulative_Return']\n",
        "\n",
        "    metrics = {}\n",
        "\n",
        "    # Basic Stats\n",
        "    metrics['Annualized Return'] = ((1 + returns.mean()) ** 252) - 1\n",
        "    metrics['Annualized Volatility'] = returns.std() * np.sqrt(252)\n",
        "\n",
        "    # Sharpe Ratio\n",
        "    metrics['Sharpe Ratio'] = (returns.mean() - rf_rate) / returns.std() * np.sqrt(252)\n",
        "\n",
        "    # Sortino Ratio\n",
        "    negative_returns = returns[returns < 0]\n",
        "    downside_std = negative_returns.std()\n",
        "    metrics['Sortino Ratio'] = (returns.mean() - rf_rate) / downside_std * np.sqrt(252) if downside_std != 0 else np.nan\n",
        "\n",
        "    # Calmar Ratio\n",
        "    peak = cumulative.cummax()\n",
        "    drawdown = (cumulative / peak) - 1\n",
        "    max_drawdown = drawdown.min()\n",
        "    metrics['Max Drawdown'] = max_drawdown\n",
        "    metrics['Calmar Ratio'] = metrics['Annualized Return'] / abs(max_drawdown) if max_drawdown != 0 else np.nan\n",
        "\n",
        "    # Skewness and Kurtosis\n",
        "    metrics['Skewness'] = returns.skew()\n",
        "    metrics['Kurtosis'] = returns.kurtosis()\n",
        "\n",
        "    # Value at Risk (VaR) and Conditional VaR\n",
        "    metrics['VaR (95%)'] = np.percentile(returns, 5)\n",
        "    metrics['CVaR (95%)'] = returns[returns <= metrics['VaR (95%)']].mean()\n",
        "\n",
        "    return pd.DataFrame(metrics, index=[\"Metric\"]).T.round(4)\n",
        "\n",
        "\n",
        "    # Assuming you already have `portfolio_df` with 'Portfolio_Return' and 'Cumulative_Return'\n",
        "risk_metrics = compute_risk_metrics(portfolio_df)\n",
        "print(risk_metrics)\n",
        "\n"
      ],
      "metadata": {
        "colab": {
          "base_uri": "https://localhost:8080/"
        },
        "id": "zqdF_fFHgHQW",
        "outputId": "cfb14aa1-a349-415f-8704-466ac0908bf4"
      },
      "execution_count": null,
      "outputs": [
        {
          "output_type": "stream",
          "name": "stdout",
          "text": [
            "                        Metric\n",
            "Annualized Return       1.2330\n",
            "Annualized Volatility   0.1875\n",
            "Sharpe Ratio            4.2905\n",
            "Sortino Ratio           6.9844\n",
            "Max Drawdown           -0.0441\n",
            "Calmar Ratio           27.9419\n",
            "Skewness               -0.2471\n",
            "Kurtosis               -0.1147\n",
            "VaR (95%)              -0.0182\n",
            "CVaR (95%)             -0.0218\n"
          ]
        }
      ]
    },
    {
      "cell_type": "code",
      "source": [
        "import numpy as np\n",
        "import pandas as pd\n",
        "import matplotlib.pyplot as plt\n",
        "from sklearn.preprocessing import StandardScaler\n",
        "from sklearn.metrics import mean_absolute_error, mean_squared_error, r2_score\n",
        "from xgboost import XGBRegressor\n",
        "from lightgbm import LGBMRegressor\n",
        "from tensorflow import keras\n",
        "from tensorflow.keras import layers\n",
        "\n",
        "# 1. Filter required columns\n",
        "features = [\n",
        "    'Daily_Return', 'Momentum_10d', 'Volatility_14d', 'Drawdown',\n",
        "    'SMA_10', 'SMA_20', 'EMA_10', 'EMA_20',\n",
        "    'RSI_14', 'MACD', 'Signal_Line',\n",
        "    'Sharpe_Ratio', 'PE_Ratio', 'ROE', 'Market_Cap'\n",
        "   # ,'Markowitz_Weight'\n",
        "     ,'Cluster_KMeans_Refined', 'Cluster_Birch_Refined'\n",
        "]\n",
        "\n",
        "df['Date'] = pd.to_datetime(df['Date'])\n",
        "df_model = df[features + ['Future_Return', 'Symbol', 'Date']].dropna()\n",
        "\n",
        "# 2. Split by date\n",
        "train_df = df_model[df_model['Date'] < '2025-01-01']\n",
        "test_df = df_model[df_model['Date'] >= '2025-01-01']\n",
        "\n",
        "X_train = train_df[features]\n",
        "y_train = train_df['Future_Return']\n",
        "X_test = test_df[features]\n",
        "y_test = test_df['Future_Return']\n",
        "\n",
        "# 3. Scale features\n",
        "scaler = StandardScaler()\n",
        "X_train_scaled = scaler.fit_transform(X_train)\n",
        "X_test_scaled = scaler.transform(X_test)\n",
        "\n",
        "\n"
      ],
      "metadata": {
        "id": "WmrVxHyEElJK"
      },
      "execution_count": null,
      "outputs": []
    },
    {
      "cell_type": "code",
      "source": [
        "# 4. Train Neural Network\n",
        "from sklearn.metrics import mean_absolute_error\n",
        "\n",
        "nn_model = keras.Sequential([\n",
        "    layers.Input(shape=(X_train_scaled.shape[1],)),\n",
        "    layers.Dense(256, activation='relu'),\n",
        "    layers.BatchNormalization(),\n",
        "    layers.Dropout(0.1),\n",
        "    layers.Dense(128, activation='relu'),\n",
        "    layers.Dropout(0.1),\n",
        "    layers.Dense(1)\n",
        "])\n",
        "\n",
        "nn_model.compile(optimizer='adam', loss='mse')\n",
        "nn_model.fit(X_train_scaled, y_train, epochs=40, batch_size=512, verbose=0)\n",
        "nn_pred = nn_model.predict(X_test_scaled).flatten()\n",
        "\n",
        "mae = mean_absolute_error(y_test, nn_pred)\n",
        "print(f\"✅ Mean Absolute Error (NN): {mae:.6f}\")\n",
        "\n",
        "# 5. Train XGBoost\n",
        "from sklearn.metrics import mean_absolute_error\n",
        "\n",
        "xgb = XGBRegressor(n_estimators=10, learning_rate=0.1, max_depth=10, random_state=42)\n",
        "xgb.fit(X_train_scaled, y_train)\n",
        "xgb_pred = xgb.predict(X_test_scaled)\n",
        "\n",
        "mae = mean_absolute_error(y_test, xgb_pred)\n",
        "print(f\"✅ Mean Absolute Error (XGBoost): {mae:.6f}\")\n",
        "\n",
        "# 6. Train LightGBM\n",
        "from sklearn.metrics import mean_absolute_error\n",
        "\n",
        "lgbm = LGBMRegressor(n_estimators=100, learning_rate=0.05, random_state=42)\n",
        "lgbm.fit(X_train_scaled, y_train)\n",
        "lgbm_pred = lgbm.predict(X_test_scaled)\n",
        "\n",
        "mae = mean_absolute_error(y_test, lgbm_pred)\n",
        "print(f\"✅ Mean Absolute Error (LightGBM): {mae:.6f}\")\n",
        "\n",
        "# 7. Ensemble prediction\n",
        "ensemble_pred = (nn_pred + xgb_pred + lgbm_pred) / 3\n",
        "\n",
        "# 8. Attach predictions\n",
        "test_df = test_df.copy().reset_index(drop=True)\n",
        "test_df['Predicted_Future_Return'] = ensemble_pred\n"
      ],
      "metadata": {
        "colab": {
          "base_uri": "https://localhost:8080/"
        },
        "id": "zbbuf-HXaYWz",
        "outputId": "cd1f0b6b-56c7-4066-87af-2891f9027677"
      },
      "execution_count": null,
      "outputs": [
        {
          "output_type": "stream",
          "name": "stdout",
          "text": [
            "\u001b[1m583/583\u001b[0m \u001b[32m━━━━━━━━━━━━━━━━━━━━\u001b[0m\u001b[37m\u001b[0m \u001b[1m1s\u001b[0m 1ms/step\n",
            "✅ Mean Absolute Error (NN): 0.013179\n",
            "✅ Mean Absolute Error (XGBoost): 0.013211\n"
          ]
        },
        {
          "output_type": "stream",
          "name": "stderr",
          "text": [
            "/usr/local/lib/python3.11/dist-packages/sklearn/utils/deprecation.py:151: FutureWarning: 'force_all_finite' was renamed to 'ensure_all_finite' in 1.6 and will be removed in 1.8.\n",
            "  warnings.warn(\n"
          ]
        },
        {
          "output_type": "stream",
          "name": "stdout",
          "text": [
            "[LightGBM] [Info] Auto-choosing row-wise multi-threading, the overhead of testing was 0.020680 seconds.\n",
            "You can set `force_row_wise=true` to remove the overhead.\n",
            "And if memory is not enough, you can set `force_col_wise=true`.\n",
            "[LightGBM] [Info] Total Bins 3827\n",
            "[LightGBM] [Info] Number of data points in the train set: 368145, number of used features: 17\n",
            "[LightGBM] [Info] Start training from score 0.000745\n",
            "✅ Mean Absolute Error (LightGBM): 0.013896\n"
          ]
        },
        {
          "output_type": "stream",
          "name": "stderr",
          "text": [
            "/usr/local/lib/python3.11/dist-packages/sklearn/utils/deprecation.py:151: FutureWarning: 'force_all_finite' was renamed to 'ensure_all_finite' in 1.6 and will be removed in 1.8.\n",
            "  warnings.warn(\n"
          ]
        }
      ]
    },
    {
      "cell_type": "code",
      "source": [
        "# 9. Portfolio simulation\n",
        "rebalance_frequency = 1\n",
        "top_n = 20\n",
        "unique_dates = test_df['Date'].sort_values().unique()\n",
        "portfolio_returns = []\n",
        "\n",
        "for i in range(0, len(unique_dates), rebalance_frequency):\n",
        "    rebalance_date = unique_dates[i]\n",
        "    date_window = unique_dates[i:i + rebalance_frequency]\n",
        "\n",
        "    day_data = test_df[test_df['Date'] == rebalance_date]\n",
        "    top_stocks = day_data.sort_values('Predicted_Future_Return', ascending=False).head(top_n)\n",
        "\n",
        "    preds = top_stocks['Predicted_Future_Return']\n",
        "    weights = np.exp(preds) / np.sum(np.exp(preds))\n",
        "    weight_map = dict(zip(top_stocks['Symbol'], weights))\n",
        "\n",
        "    for date in date_window:\n",
        "        daily_data = test_df[test_df['Date'] == date]\n",
        "        merged = daily_data[daily_data['Symbol'].isin(weight_map)].copy()\n",
        "        merged['Weight'] = merged['Symbol'].map(weight_map)\n",
        "        merged['Weight'] = merged['Weight'] / merged['Weight'].sum()\n",
        "\n",
        "        daily_return = np.sum(merged['Weight'] * merged['Future_Return'])\n",
        "        portfolio_returns.append({'Date': date, 'Portfolio_Return': daily_return})\n",
        "\n",
        "# 10. Metrics\n",
        "portfolio_df = pd.DataFrame(portfolio_returns).sort_values('Date')\n",
        "portfolio_df['Cumulative_Return'] = (1 + portfolio_df['Portfolio_Return']).cumprod()\n",
        "sharpe_ratio = portfolio_df['Portfolio_Return'].mean() / portfolio_df['Portfolio_Return'].std() * np.sqrt(252)\n",
        "drawdown = portfolio_df['Cumulative_Return'] / portfolio_df['Cumulative_Return'].cummax() - 1\n",
        "max_drawdown = drawdown.min()\n",
        "\n",
        "# 11. Plot\n",
        "plt.figure(figsize=(12, 6))\n",
        "plt.plot(portfolio_df['Date'], portfolio_df['Cumulative_Return'])\n",
        "plt.title(\"Cumulative Portfolio Return (Top 10 Stocks)\")\n",
        "plt.xlabel(\"Date\")\n",
        "plt.ylabel(\"Cumulative Return\")\n",
        "plt.grid(True)\n",
        "plt.tight_layout()\n",
        "plt.show()\n",
        "\n",
        "# 12. Output\n",
        "print(f\"\\n✅ Sharpe Ratio: {sharpe_ratio:.3f}\")\n",
        "print(f\"✅ Max Drawdown: {max_drawdown:.3f}\")\n",
        "print(f\"✅ Final Cumulative Return: {portfolio_df['Cumulative_Return'].iloc[-1]:.2f}\")"
      ],
      "metadata": {
        "colab": {
          "base_uri": "https://localhost:8080/",
          "height": 676
        },
        "id": "RVqafcZgFSqU",
        "outputId": "4a7ece3b-d8f4-40a8-9041-63ae7eb3df4f"
      },
      "execution_count": null,
      "outputs": [
        {
          "output_type": "display_data",
          "data": {
            "text/plain": [
              "<Figure size 1200x600 with 1 Axes>"
            ],
            "image/png": "[encoded data removed]"
          },
          "metadata": {}
        },
        {
          "output_type": "stream",
          "name": "stdout",
          "text": [
            "\n",
            "✅ Sharpe Ratio: 0.086\n",
            "✅ Max Drawdown: -0.063\n",
            "✅ Final Cumulative Return: 1.00\n"
          ]
        }
      ]
    },
    {
      "cell_type": "code",
      "source": [
        "import numpy as np\n",
        "import pandas as pd\n",
        "\n",
        "def compute_risk_metrics(portfolio_df, rf_rate=0.0):\n",
        "    \"\"\"\n",
        "    Compute various portfolio risk and performance metrics.\n",
        "\n",
        "    Parameters:\n",
        "        portfolio_df (DataFrame): Must contain 'Portfolio_Return' and 'Cumulative_Return'\n",
        "        rf_rate (float): Risk-free rate (default 0.0)\n",
        "\n",
        "    Returns:\n",
        "        dict: Risk and performance metrics\n",
        "    \"\"\"\n",
        "\n",
        "    returns = portfolio_df['Portfolio_Return']\n",
        "    cumulative = portfolio_df['Cumulative_Return']\n",
        "\n",
        "    metrics = {}\n",
        "\n",
        "    # Basic Stats\n",
        "    metrics['Annualized Return'] = ((1 + returns.mean()) ** 252) - 1\n",
        "    metrics['Annualized Volatility'] = returns.std() * np.sqrt(252)\n",
        "\n",
        "    # Sharpe Ratio\n",
        "    metrics['Sharpe Ratio'] = (returns.mean() - rf_rate) / returns.std() * np.sqrt(252)\n",
        "\n",
        "    # Sortino Ratio\n",
        "    negative_returns = returns[returns < 0]\n",
        "    downside_std = negative_returns.std()\n",
        "    metrics['Sortino Ratio'] = (returns.mean() - rf_rate) / downside_std * np.sqrt(252) if downside_std != 0 else np.nan\n",
        "\n",
        "    # Calmar Ratio\n",
        "    peak = cumulative.cummax()\n",
        "    drawdown = (cumulative / peak) - 1\n",
        "    max_drawdown = drawdown.min()\n",
        "    metrics['Max Drawdown'] = max_drawdown\n",
        "    metrics['Calmar Ratio'] = metrics['Annualized Return'] / abs(max_drawdown) if max_drawdown != 0 else np.nan\n",
        "\n",
        "    # Skewness and Kurtosis\n",
        "    metrics['Skewness'] = returns.skew()\n",
        "    metrics['Kurtosis'] = returns.kurtosis()\n",
        "\n",
        "    # Value at Risk (VaR) and Conditional VaR\n",
        "    metrics['VaR (95%)'] = np.percentile(returns, 5)\n",
        "    metrics['CVaR (95%)'] = returns[returns <= metrics['VaR (95%)']].mean()\n",
        "\n",
        "    return pd.DataFrame(metrics, index=[\"Metric\"]).T.round(4)\n",
        "\n",
        "\n",
        "    # Assuming you already have `portfolio_df` with 'Portfolio_Return' and 'Cumulative_Return'\n",
        "risk_metrics = compute_risk_metrics(portfolio_df)\n",
        "print(risk_metrics)\n",
        "\n"
      ],
      "metadata": {
        "colab": {
          "base_uri": "https://localhost:8080/"
        },
        "id": "6zFFDrPnf8Bn",
        "outputId": "22c4fc3e-eb42-4c7d-f106-aaeb433b1b9f"
      },
      "execution_count": null,
      "outputs": [
        {
          "output_type": "stream",
          "name": "stdout",
          "text": [
            "                       Metric\n",
            "Annualized Return      0.3038\n",
            "Annualized Volatility  0.2076\n",
            "Sharpe Ratio           1.2788\n",
            "Sortino Ratio          1.7953\n",
            "Max Drawdown          -0.0805\n",
            "Calmar Ratio           3.7755\n",
            "Skewness              -0.6430\n",
            "Kurtosis               0.2817\n",
            "VaR (95%)             -0.0192\n",
            "CVaR (95%)            -0.0309\n"
          ]
        }
      ]
    },
    {
      "cell_type": "code",
      "source": [
        "import numpy as np\n",
        "import pandas as pd\n",
        "import matplotlib.pyplot as plt\n",
        "from sklearn.preprocessing import StandardScaler\n",
        "from sklearn.metrics import mean_absolute_error, mean_squared_error, r2_score\n",
        "from xgboost import XGBRegressor\n",
        "from lightgbm import LGBMRegressor\n",
        "from tensorflow import keras\n",
        "from tensorflow.keras import layers\n",
        "\n",
        "# 1. Filter required columns\n",
        "features = [\n",
        "    'Daily_Return', 'Momentum_10d', 'Volatility_14d', 'Drawdown',\n",
        "    'SMA_10', 'SMA_20', 'EMA_10', 'EMA_20',\n",
        "    'RSI_14', 'MACD', 'Signal_Line',\n",
        "    'Sharpe_Ratio', 'PE_Ratio', 'ROE', 'Market_Cap'\n",
        "    ,'Markowitz_Weight'\n",
        "    # ,'Cluster_KMeans_Refined', 'Cluster_Birch_Refined'\n",
        "]\n",
        "\n",
        "df['Date'] = pd.to_datetime(df['Date'])\n",
        "df_model = df[features + ['Future_Return', 'Symbol', 'Date']].dropna()\n",
        "\n",
        "# 2. Split by date\n",
        "train_df = df_model[df_model['Date'] < '2025-01-01']\n",
        "test_df = df_model[df_model['Date'] >= '2025-01-01']\n",
        "\n",
        "X_train = train_df[features]\n",
        "y_train = train_df['Future_Return']\n",
        "X_test = test_df[features]\n",
        "y_test = test_df['Future_Return']\n",
        "\n",
        "# 3. Scale features\n",
        "scaler = StandardScaler()\n",
        "X_train_scaled = scaler.fit_transform(X_train)\n",
        "X_test_scaled = scaler.transform(X_test)\n",
        "\n",
        "\n"
      ],
      "metadata": {
        "id": "JyfwCTAnacMU"
      },
      "execution_count": null,
      "outputs": []
    },
    {
      "cell_type": "code",
      "source": [
        "# 4. Train Neural Network\n",
        "from sklearn.metrics import mean_absolute_error\n",
        "\n",
        "nn_model = keras.Sequential([\n",
        "    layers.Input(shape=(X_train_scaled.shape[1],)),\n",
        "    layers.Dense(256, activation='relu'),\n",
        "    layers.BatchNormalization(),\n",
        "    layers.Dropout(0.1),\n",
        "    layers.Dense(128, activation='relu'),\n",
        "    layers.Dropout(0.1),\n",
        "    layers.Dense(1)\n",
        "])\n",
        "\n",
        "nn_model.compile(optimizer='adam', loss='mse')\n",
        "nn_model.fit(X_train_scaled, y_train, epochs=40, batch_size=512, verbose=0)\n",
        "nn_pred = nn_model.predict(X_test_scaled).flatten()\n",
        "\n",
        "mae = mean_absolute_error(y_test, nn_pred)\n",
        "print(f\"✅ Mean Absolute Error (NN): {mae:.6f}\")\n",
        "\n",
        "# 5. Train XGBoost\n",
        "from sklearn.metrics import mean_absolute_error\n",
        "\n",
        "xgb = XGBRegressor(n_estimators=10, learning_rate=0.1, max_depth=10, random_state=42)\n",
        "xgb.fit(X_train_scaled, y_train)\n",
        "xgb_pred = xgb.predict(X_test_scaled)\n",
        "\n",
        "mae = mean_absolute_error(y_test, xgb_pred)\n",
        "print(f\"✅ Mean Absolute Error (XGBoost): {mae:.6f}\")\n",
        "\n",
        "# 6. Train LightGBM\n",
        "from sklearn.metrics import mean_absolute_error\n",
        "\n",
        "lgbm = LGBMRegressor(n_estimators=100, learning_rate=0.05, random_state=42)\n",
        "lgbm.fit(X_train_scaled, y_train)\n",
        "lgbm_pred = lgbm.predict(X_test_scaled)\n",
        "\n",
        "mae = mean_absolute_error(y_test, lgbm_pred)\n",
        "print(f\"✅ Mean Absolute Error (LightGBM): {mae:.6f}\")\n",
        "\n",
        "# 7. Ensemble prediction\n",
        "ensemble_pred = (nn_pred + xgb_pred + lgbm_pred) / 3\n",
        "\n",
        "# 8. Attach predictions\n",
        "test_df = test_df.copy().reset_index(drop=True)\n",
        "test_df['Predicted_Future_Return'] = ensemble_pred\n"
      ],
      "metadata": {
        "colab": {
          "base_uri": "https://localhost:8080/"
        },
        "id": "dbwwNo57a5-e",
        "outputId": "741de939-408f-455c-b6ec-5b8cc05ccbfd"
      },
      "execution_count": null,
      "outputs": [
        {
          "output_type": "stream",
          "name": "stdout",
          "text": [
            "\u001b[1m564/564\u001b[0m \u001b[32m━━━━━━━━━━━━━━━━━━━━\u001b[0m\u001b[37m\u001b[0m \u001b[1m1s\u001b[0m 1ms/step\n",
            "✅ Mean Absolute Error (NN): 0.013165\n",
            "✅ Mean Absolute Error (XGBoost): 0.013128\n"
          ]
        },
        {
          "output_type": "stream",
          "name": "stderr",
          "text": [
            "/usr/local/lib/python3.11/dist-packages/sklearn/utils/deprecation.py:151: FutureWarning: 'force_all_finite' was renamed to 'ensure_all_finite' in 1.6 and will be removed in 1.8.\n",
            "  warnings.warn(\n"
          ]
        },
        {
          "output_type": "stream",
          "name": "stdout",
          "text": [
            "[LightGBM] [Info] Auto-choosing row-wise multi-threading, the overhead of testing was 0.019925 seconds.\n",
            "You can set `force_row_wise=true` to remove the overhead.\n",
            "And if memory is not enough, you can set `force_col_wise=true`.\n",
            "[LightGBM] [Info] Total Bins 4069\n",
            "[LightGBM] [Info] Number of data points in the train set: 368140, number of used features: 16\n",
            "[LightGBM] [Info] Start training from score 0.000745\n",
            "✅ Mean Absolute Error (LightGBM): 0.013751\n"
          ]
        },
        {
          "output_type": "stream",
          "name": "stderr",
          "text": [
            "/usr/local/lib/python3.11/dist-packages/sklearn/utils/deprecation.py:151: FutureWarning: 'force_all_finite' was renamed to 'ensure_all_finite' in 1.6 and will be removed in 1.8.\n",
            "  warnings.warn(\n"
          ]
        }
      ]
    },
    {
      "cell_type": "code",
      "source": [
        "# 9. Portfolio simulation\n",
        "rebalance_frequency = 10\n",
        "top_n = 4\n",
        "unique_dates = test_df['Date'].sort_values().unique()\n",
        "portfolio_returns = []\n",
        "\n",
        "for i in range(0, len(unique_dates), rebalance_frequency):\n",
        "    rebalance_date = unique_dates[i]\n",
        "    date_window = unique_dates[i:i + rebalance_frequency]\n",
        "\n",
        "    day_data = test_df[test_df['Date'] == rebalance_date]\n",
        "    top_stocks = day_data.sort_values('Predicted_Future_Return', ascending=False).head(top_n)\n",
        "\n",
        "    preds = top_stocks['Predicted_Future_Return']\n",
        "    weights = np.exp(preds) / np.sum(np.exp(preds))\n",
        "    weight_map = dict(zip(top_stocks['Symbol'], weights))\n",
        "\n",
        "    for date in date_window:\n",
        "        daily_data = test_df[test_df['Date'] == date]\n",
        "        merged = daily_data[daily_data['Symbol'].isin(weight_map)].copy()\n",
        "        merged['Weight'] = merged['Symbol'].map(weight_map)\n",
        "        merged['Weight'] = merged['Weight'] / merged['Weight'].sum()\n",
        "\n",
        "        daily_return = np.sum(merged['Weight'] * merged['Future_Return'])\n",
        "        portfolio_returns.append({'Date': date, 'Portfolio_Return': daily_return})\n",
        "\n",
        "# 10. Metrics\n",
        "portfolio_df = pd.DataFrame(portfolio_returns).sort_values('Date')\n",
        "portfolio_df['Cumulative_Return'] = (1 + portfolio_df['Portfolio_Return']).cumprod()\n",
        "sharpe_ratio = portfolio_df['Portfolio_Return'].mean() / portfolio_df['Portfolio_Return'].std() * np.sqrt(252)\n",
        "drawdown = portfolio_df['Cumulative_Return'] / portfolio_df['Cumulative_Return'].cummax() - 1\n",
        "max_drawdown = drawdown.min()\n",
        "\n",
        "# 11. Plot\n",
        "plt.figure(figsize=(12, 6))\n",
        "plt.plot(portfolio_df['Date'], portfolio_df['Cumulative_Return'])\n",
        "plt.title(\"Cumulative Portfolio Return (Top 10 Stocks)\")\n",
        "plt.xlabel(\"Date\")\n",
        "plt.ylabel(\"Cumulative Return\")\n",
        "plt.grid(True)\n",
        "plt.tight_layout()\n",
        "plt.show()\n",
        "\n",
        "# 12. Output\n",
        "print(f\"\\n✅ Sharpe Ratio: {sharpe_ratio:.3f}\")\n",
        "print(f\"✅ Max Drawdown: {max_drawdown:.3f}\")\n",
        "print(f\"✅ Final Cumulative Return: {portfolio_df['Cumulative_Return'].iloc[-1]:.2f}\")"
      ],
      "metadata": {
        "colab": {
          "base_uri": "https://localhost:8080/",
          "height": 676
        },
        "id": "vSjslltYa8aK",
        "outputId": "05a8e41b-9380-4da7-e939-962247fe8237"
      },
      "execution_count": null,
      "outputs": [
        {
          "output_type": "display_data",
          "data": {
            "text/plain": [
              "<Figure size 1200x600 with 1 Axes>"
            ],
            "image/png": "[encoded data removed]"
          },
          "metadata": {}
        },
        {
          "output_type": "stream",
          "name": "stdout",
          "text": [
            "\n",
            "✅ Sharpe Ratio: 1.768\n",
            "✅ Max Drawdown: -0.067\n",
            "✅ Final Cumulative Return: 1.08\n"
          ]
        }
      ]
    },
    {
      "cell_type": "code",
      "source": [
        "import numpy as np\n",
        "import pandas as pd\n",
        "\n",
        "def compute_risk_metrics(portfolio_df, rf_rate=0.0):\n",
        "    \"\"\"\n",
        "    Compute various portfolio risk and performance metrics.\n",
        "\n",
        "    Parameters:\n",
        "        portfolio_df (DataFrame): Must contain 'Portfolio_Return' and 'Cumulative_Return'\n",
        "        rf_rate (float): Risk-free rate (default 0.0)\n",
        "\n",
        "    Returns:\n",
        "        dict: Risk and performance metrics\n",
        "    \"\"\"\n",
        "\n",
        "    returns = portfolio_df['Portfolio_Return']\n",
        "    cumulative = portfolio_df['Cumulative_Return']\n",
        "\n",
        "    metrics = {}\n",
        "\n",
        "    # Basic Stats\n",
        "    metrics['Annualized Return'] = ((1 + returns.mean()) ** 252) - 1\n",
        "    metrics['Annualized Volatility'] = returns.std() * np.sqrt(252)\n",
        "\n",
        "    # Sharpe Ratio\n",
        "    metrics['Sharpe Ratio'] = (returns.mean() - rf_rate) / returns.std() * np.sqrt(252)\n",
        "\n",
        "    # Sortino Ratio\n",
        "    negative_returns = returns[returns < 0]\n",
        "    downside_std = negative_returns.std()\n",
        "    metrics['Sortino Ratio'] = (returns.mean() - rf_rate) / downside_std * np.sqrt(252) if downside_std != 0 else np.nan\n",
        "\n",
        "    # Calmar Ratio\n",
        "    peak = cumulative.cummax()\n",
        "    drawdown = (cumulative / peak) - 1\n",
        "    max_drawdown = drawdown.min()\n",
        "    metrics['Max Drawdown'] = max_drawdown\n",
        "    metrics['Calmar Ratio'] = metrics['Annualized Return'] / abs(max_drawdown) if max_drawdown != 0 else np.nan\n",
        "\n",
        "    # Skewness and Kurtosis\n",
        "    metrics['Skewness'] = returns.skew()\n",
        "    metrics['Kurtosis'] = returns.kurtosis()\n",
        "\n",
        "    # Value at Risk (VaR) and Conditional VaR\n",
        "    metrics['VaR (95%)'] = np.percentile(returns, 5)\n",
        "    metrics['CVaR (95%)'] = returns[returns <= metrics['VaR (95%)']].mean()\n",
        "\n",
        "    return pd.DataFrame(metrics, index=[\"Metric\"]).T.round(4)\n",
        "\n",
        "\n",
        "    # Assuming you already have `portfolio_df` with 'Portfolio_Return' and 'Cumulative_Return'\n",
        "risk_metrics = compute_risk_metrics(portfolio_df)\n",
        "print(risk_metrics)\n",
        "\n"
      ],
      "metadata": {
        "colab": {
          "base_uri": "https://localhost:8080/"
        },
        "id": "lMFss7E4f1Dx",
        "outputId": "7e1b0dd9-ec3f-442f-b952-d1fdc8df16e1"
      },
      "execution_count": null,
      "outputs": [
        {
          "output_type": "stream",
          "name": "stdout",
          "text": [
            "                       Metric\n",
            "Annualized Return      0.4363\n",
            "Annualized Volatility  0.2050\n",
            "Sharpe Ratio           1.7675\n",
            "Sortino Ratio          3.4136\n",
            "Max Drawdown          -0.0671\n",
            "Calmar Ratio           6.5034\n",
            "Skewness               0.2408\n",
            "Kurtosis              -0.5024\n",
            "VaR (95%)             -0.0183\n",
            "CVaR (95%)            -0.0202\n"
          ]
        }
      ]
    }
  ]
}